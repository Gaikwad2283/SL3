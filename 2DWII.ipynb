{
 "cells": [
  {
   "cell_type": "code",
   "execution_count": 32,
   "id": "106938ee",
   "metadata": {},
   "outputs": [],
   "source": [
    "import pandas as pd\n",
    "import numpy as np\n",
    "from numpy import random\n",
    "import matplotlib.pyplot as plt\n",
    "import seaborn as sns"
   ]
  },
  {
   "cell_type": "code",
   "execution_count": 33,
   "id": "cee2b4fb",
   "metadata": {},
   "outputs": [
    {
     "name": "stdout",
     "output_type": "stream",
     "text": [
      "[76 76 63 68 65 63 64 76 78 76 66 61 66 62 72 60 79 74 68 69 76 69 70 69\n",
      " 78 31 38 31 37 31]\n"
     ]
    },
    {
     "data": {
      "text/plain": [
       "(30,)"
      ]
     },
     "execution_count": 33,
     "metadata": {},
     "output_type": "execute_result"
    }
   ],
   "source": [
    "# Math_Score=random.randint(60,80,25)\n",
    "# Math_Score.append(random.randint(30,40,5))\n",
    "import numpy as np\n",
    "\n",
    "# Generate random math scores in the range 60 to 80\n",
    "math_scores_range1 = np.random.randint(60, 81, 25)\n",
    "\n",
    "# Generate random math scores in the range 30 to 40\n",
    "math_scores_range2 = np.random.randint(30, 41, 5)\n",
    "\n",
    "# Combine the two arrays using numpy.concatenate()\n",
    "Math_Score = np.concatenate((math_scores_range1, math_scores_range2))\n",
    "\n",
    "print(Math_Score)\n",
    "\n",
    "Writing_Score=random.randint(70,90,30)\n",
    "Reading_Score=random.randint(75,100,30)\n",
    "Division=np.random.choice(['A','B','C'],30)\n",
    "Math_Score.shape"
   ]
  },
  {
   "cell_type": "code",
   "execution_count": null,
   "id": "8dd1c8f9",
   "metadata": {},
   "outputs": [],
   "source": []
  },
  {
   "cell_type": "code",
   "execution_count": 34,
   "id": "d21a620f",
   "metadata": {},
   "outputs": [
    {
     "data": {
      "text/html": [
       "<div>\n",
       "<style scoped>\n",
       "    .dataframe tbody tr th:only-of-type {\n",
       "        vertical-align: middle;\n",
       "    }\n",
       "\n",
       "    .dataframe tbody tr th {\n",
       "        vertical-align: top;\n",
       "    }\n",
       "\n",
       "    .dataframe thead th {\n",
       "        text-align: right;\n",
       "    }\n",
       "</style>\n",
       "<table border=\"1\" class=\"dataframe\">\n",
       "  <thead>\n",
       "    <tr style=\"text-align: right;\">\n",
       "      <th></th>\n",
       "      <th>Math_Score</th>\n",
       "      <th>Writing_Score</th>\n",
       "      <th>Reading_Score</th>\n",
       "      <th>Division</th>\n",
       "    </tr>\n",
       "  </thead>\n",
       "  <tbody>\n",
       "    <tr>\n",
       "      <th>0</th>\n",
       "      <td>76</td>\n",
       "      <td>74</td>\n",
       "      <td>96</td>\n",
       "      <td>C</td>\n",
       "    </tr>\n",
       "    <tr>\n",
       "      <th>1</th>\n",
       "      <td>76</td>\n",
       "      <td>84</td>\n",
       "      <td>90</td>\n",
       "      <td>B</td>\n",
       "    </tr>\n",
       "    <tr>\n",
       "      <th>2</th>\n",
       "      <td>63</td>\n",
       "      <td>74</td>\n",
       "      <td>86</td>\n",
       "      <td>B</td>\n",
       "    </tr>\n",
       "    <tr>\n",
       "      <th>3</th>\n",
       "      <td>68</td>\n",
       "      <td>77</td>\n",
       "      <td>93</td>\n",
       "      <td>B</td>\n",
       "    </tr>\n",
       "    <tr>\n",
       "      <th>4</th>\n",
       "      <td>65</td>\n",
       "      <td>80</td>\n",
       "      <td>87</td>\n",
       "      <td>C</td>\n",
       "    </tr>\n",
       "    <tr>\n",
       "      <th>5</th>\n",
       "      <td>63</td>\n",
       "      <td>84</td>\n",
       "      <td>87</td>\n",
       "      <td>B</td>\n",
       "    </tr>\n",
       "    <tr>\n",
       "      <th>6</th>\n",
       "      <td>64</td>\n",
       "      <td>88</td>\n",
       "      <td>93</td>\n",
       "      <td>B</td>\n",
       "    </tr>\n",
       "    <tr>\n",
       "      <th>7</th>\n",
       "      <td>76</td>\n",
       "      <td>80</td>\n",
       "      <td>90</td>\n",
       "      <td>A</td>\n",
       "    </tr>\n",
       "    <tr>\n",
       "      <th>8</th>\n",
       "      <td>78</td>\n",
       "      <td>79</td>\n",
       "      <td>91</td>\n",
       "      <td>A</td>\n",
       "    </tr>\n",
       "    <tr>\n",
       "      <th>9</th>\n",
       "      <td>76</td>\n",
       "      <td>70</td>\n",
       "      <td>75</td>\n",
       "      <td>A</td>\n",
       "    </tr>\n",
       "    <tr>\n",
       "      <th>10</th>\n",
       "      <td>66</td>\n",
       "      <td>84</td>\n",
       "      <td>90</td>\n",
       "      <td>C</td>\n",
       "    </tr>\n",
       "    <tr>\n",
       "      <th>11</th>\n",
       "      <td>61</td>\n",
       "      <td>87</td>\n",
       "      <td>86</td>\n",
       "      <td>C</td>\n",
       "    </tr>\n",
       "    <tr>\n",
       "      <th>12</th>\n",
       "      <td>66</td>\n",
       "      <td>80</td>\n",
       "      <td>84</td>\n",
       "      <td>A</td>\n",
       "    </tr>\n",
       "    <tr>\n",
       "      <th>13</th>\n",
       "      <td>62</td>\n",
       "      <td>81</td>\n",
       "      <td>89</td>\n",
       "      <td>A</td>\n",
       "    </tr>\n",
       "    <tr>\n",
       "      <th>14</th>\n",
       "      <td>72</td>\n",
       "      <td>76</td>\n",
       "      <td>96</td>\n",
       "      <td>C</td>\n",
       "    </tr>\n",
       "    <tr>\n",
       "      <th>15</th>\n",
       "      <td>60</td>\n",
       "      <td>85</td>\n",
       "      <td>75</td>\n",
       "      <td>A</td>\n",
       "    </tr>\n",
       "    <tr>\n",
       "      <th>16</th>\n",
       "      <td>79</td>\n",
       "      <td>89</td>\n",
       "      <td>95</td>\n",
       "      <td>A</td>\n",
       "    </tr>\n",
       "    <tr>\n",
       "      <th>17</th>\n",
       "      <td>74</td>\n",
       "      <td>89</td>\n",
       "      <td>81</td>\n",
       "      <td>C</td>\n",
       "    </tr>\n",
       "    <tr>\n",
       "      <th>18</th>\n",
       "      <td>68</td>\n",
       "      <td>84</td>\n",
       "      <td>88</td>\n",
       "      <td>A</td>\n",
       "    </tr>\n",
       "    <tr>\n",
       "      <th>19</th>\n",
       "      <td>69</td>\n",
       "      <td>73</td>\n",
       "      <td>83</td>\n",
       "      <td>A</td>\n",
       "    </tr>\n",
       "    <tr>\n",
       "      <th>20</th>\n",
       "      <td>76</td>\n",
       "      <td>79</td>\n",
       "      <td>99</td>\n",
       "      <td>B</td>\n",
       "    </tr>\n",
       "    <tr>\n",
       "      <th>21</th>\n",
       "      <td>69</td>\n",
       "      <td>72</td>\n",
       "      <td>95</td>\n",
       "      <td>C</td>\n",
       "    </tr>\n",
       "    <tr>\n",
       "      <th>22</th>\n",
       "      <td>70</td>\n",
       "      <td>87</td>\n",
       "      <td>80</td>\n",
       "      <td>A</td>\n",
       "    </tr>\n",
       "    <tr>\n",
       "      <th>23</th>\n",
       "      <td>69</td>\n",
       "      <td>77</td>\n",
       "      <td>75</td>\n",
       "      <td>C</td>\n",
       "    </tr>\n",
       "    <tr>\n",
       "      <th>24</th>\n",
       "      <td>78</td>\n",
       "      <td>88</td>\n",
       "      <td>79</td>\n",
       "      <td>A</td>\n",
       "    </tr>\n",
       "    <tr>\n",
       "      <th>25</th>\n",
       "      <td>31</td>\n",
       "      <td>74</td>\n",
       "      <td>98</td>\n",
       "      <td>A</td>\n",
       "    </tr>\n",
       "    <tr>\n",
       "      <th>26</th>\n",
       "      <td>38</td>\n",
       "      <td>79</td>\n",
       "      <td>81</td>\n",
       "      <td>B</td>\n",
       "    </tr>\n",
       "    <tr>\n",
       "      <th>27</th>\n",
       "      <td>31</td>\n",
       "      <td>70</td>\n",
       "      <td>96</td>\n",
       "      <td>B</td>\n",
       "    </tr>\n",
       "    <tr>\n",
       "      <th>28</th>\n",
       "      <td>37</td>\n",
       "      <td>83</td>\n",
       "      <td>97</td>\n",
       "      <td>C</td>\n",
       "    </tr>\n",
       "    <tr>\n",
       "      <th>29</th>\n",
       "      <td>31</td>\n",
       "      <td>72</td>\n",
       "      <td>82</td>\n",
       "      <td>A</td>\n",
       "    </tr>\n",
       "  </tbody>\n",
       "</table>\n",
       "</div>"
      ],
      "text/plain": [
       "    Math_Score  Writing_Score  Reading_Score Division\n",
       "0           76             74             96        C\n",
       "1           76             84             90        B\n",
       "2           63             74             86        B\n",
       "3           68             77             93        B\n",
       "4           65             80             87        C\n",
       "5           63             84             87        B\n",
       "6           64             88             93        B\n",
       "7           76             80             90        A\n",
       "8           78             79             91        A\n",
       "9           76             70             75        A\n",
       "10          66             84             90        C\n",
       "11          61             87             86        C\n",
       "12          66             80             84        A\n",
       "13          62             81             89        A\n",
       "14          72             76             96        C\n",
       "15          60             85             75        A\n",
       "16          79             89             95        A\n",
       "17          74             89             81        C\n",
       "18          68             84             88        A\n",
       "19          69             73             83        A\n",
       "20          76             79             99        B\n",
       "21          69             72             95        C\n",
       "22          70             87             80        A\n",
       "23          69             77             75        C\n",
       "24          78             88             79        A\n",
       "25          31             74             98        A\n",
       "26          38             79             81        B\n",
       "27          31             70             96        B\n",
       "28          37             83             97        C\n",
       "29          31             72             82        A"
      ]
     },
     "execution_count": 34,
     "metadata": {},
     "output_type": "execute_result"
    }
   ],
   "source": [
    "df=pd.DataFrame({\n",
    "    'Math_Score':Math_Score,\n",
    "    'Writing_Score':Writing_Score,\n",
    "    'Reading_Score':Reading_Score,\n",
    "    'Division':Division\n",
    "})\n",
    "df"
   ]
  },
  {
   "cell_type": "raw",
   "id": "5f513949",
   "metadata": {},
   "source": [
    "df.describe()"
   ]
  },
  {
   "cell_type": "code",
   "execution_count": 41,
   "id": "a85f827f",
   "metadata": {},
   "outputs": [
    {
     "data": {
      "text/plain": [
       "Math_Score        int32\n",
       "Writing_Score     int32\n",
       "Reading_Score     int32\n",
       "Division         object\n",
       "dtype: object"
      ]
     },
     "execution_count": 41,
     "metadata": {},
     "output_type": "execute_result"
    }
   ],
   "source": [
    "df.dtypes"
   ]
  },
  {
   "cell_type": "code",
   "execution_count": 35,
   "id": "a4818ee1",
   "metadata": {},
   "outputs": [
    {
     "data": {
      "image/png": "[encoded data removed]",
      "text/plain": [
       "<Figure size 1000x500 with 1 Axes>"
      ]
     },
     "metadata": {},
     "output_type": "display_data"
    }
   ],
   "source": [
    "import pandas as pd\n",
    "import matplotlib.pyplot as plt\n",
    "\n",
    "\n",
    "\n",
    "# Plot boxplot\n",
    "df.boxplot(figsize=(10, 5))\n",
    "plt.title('Boxplot of Numeric Variables')\n",
    "plt.ylabel('Values')\n",
    "plt.xlabel('Variables')\n",
    "plt.show()\n"
   ]
  },
  {
   "cell_type": "code",
   "execution_count": 42,
   "id": "5c2d9f8b",
   "metadata": {},
   "outputs": [
    {
     "data": {
      "text/plain": [
       "Math_Score       0\n",
       "Writing_Score    0\n",
       "Reading_Score    0\n",
       "Division         0\n",
       "dtype: int64"
      ]
     },
     "execution_count": 42,
     "metadata": {},
     "output_type": "execute_result"
    }
   ],
   "source": [
    "df.isnull().sum()"
   ]
  },
  {
   "cell_type": "code",
   "execution_count": null,
   "id": "30a76518",
   "metadata": {},
   "outputs": [],
   "source": [
    "# if enpty categrical mode \n",
    "# df['Math_Score'].fillna(df['MAth_score'].median(), inplace =True)\n",
    "# data['Age'] = data['Age'].fillna(np.mean(data['Age']))"
   ]
  },
  {
   "cell_type": "code",
   "execution_count": 36,
   "id": "dc579ea7",
   "metadata": {},
   "outputs": [
    {
     "data": {
      "text/plain": [
       "(62.25, 75.5)"
      ]
     },
     "execution_count": 36,
     "metadata": {},
     "output_type": "execute_result"
    }
   ],
   "source": [
    "Q1 = np.percentile(df['Math_Score'], 25)\n",
    "Q3= np.percentile(df['Math_Score'], 75)\n",
    "Q1,Q3"
   ]
  },
  {
   "cell_type": "code",
   "execution_count": 37,
   "id": "369a39ed",
   "metadata": {},
   "outputs": [
    {
     "data": {
      "text/plain": [
       "13.25"
      ]
     },
     "execution_count": 37,
     "metadata": {},
     "output_type": "execute_result"
    }
   ],
   "source": [
    "IQR=Q3-Q1\n",
    "IQR"
   ]
  },
  {
   "cell_type": "code",
   "execution_count": 38,
   "id": "e1ce5587",
   "metadata": {},
   "outputs": [
    {
     "name": "stdout",
     "output_type": "stream",
     "text": [
      "[31, 38, 31, 37, 31]\n"
     ]
    }
   ],
   "source": [
    "low_limit=Q1-1.5*IQR\n",
    "upper_limit=Q3+1.5*IQR\n",
    "outlier=[]\n",
    "for i in df['Math_Score']:\n",
    "    if i>upper_limit or i<low_limit:\n",
    "        outlier.append(i)\n",
    "print(outlier)"
   ]
  },
  {
   "cell_type": "code",
   "execution_count": 44,
   "id": "5b4f7acd",
   "metadata": {},
   "outputs": [
    {
     "name": "stdout",
     "output_type": "stream",
     "text": [
      "(30, 1)\n"
     ]
    },
    {
     "name": "stderr",
     "output_type": "stream",
     "text": [
      "C:\\Users\\PRIYA\\anaconda3\\Lib\\site-packages\\sklearn\\preprocessing\\_label.py:114: DataConversionWarning: A column-vector y was passed when a 1d array was expected. Please change the shape of y to (n_samples, ), for example using ravel().\n",
      "  y = column_or_1d(y, warn=True)\n"
     ]
    },
    {
     "data": {
      "text/plain": [
       "array([2, 1, 1, 1, 2, 1, 1, 0, 0, 0, 2, 2, 0, 0, 2, 0, 0, 2, 0, 0, 1, 2,\n",
       "       0, 2, 0, 0, 1, 1, 2, 0])"
      ]
     },
     "execution_count": 44,
     "metadata": {},
     "output_type": "execute_result"
    }
   ],
   "source": [
    "from sklearn.preprocessing import LabelEncoder\n",
    "lb=LabelEncoder()\n",
    "tranform_div=df['Division'].values.reshape(-1,1)\n",
    "print(tranform_div.shape)\n",
    "encoded_div=lb.fit_transform(tranform_div)\n",
    "encoded_div\n",
    "# lb.classes_"
   ]
  },
  {
   "cell_type": "code",
   "execution_count": 40,
   "id": "cbadba57",
   "metadata": {},
   "outputs": [
    {
     "data": {
      "text/plain": [
       "array(['A', 'B', 'C'], dtype=object)"
      ]
     },
     "execution_count": 40,
     "metadata": {},
     "output_type": "execute_result"
    }
   ],
   "source": [
    "lb.classes_"
   ]
  }
 ],
 "metadata": {
  "kernelspec": {
   "display_name": "Python 3 (ipykernel)",
   "language": "python",
   "name": "python3"
  },
  "language_info": {
   "codemirror_mode": {
    "name": "ipython",
    "version": 3
   },
   "file_extension": ".py",
   "mimetype": "text/x-python",
   "name": "python",
   "nbconvert_exporter": "python",
   "pygments_lexer": "ipython3",
   "version": "3.11.5"
  }
 },
 "nbformat": 4,
 "nbformat_minor": 5
}
